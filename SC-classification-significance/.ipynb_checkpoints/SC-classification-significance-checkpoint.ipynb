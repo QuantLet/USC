{
 "cells": [
  {
   "cell_type": "code",
   "execution_count": 26,
   "metadata": {},
   "outputs": [],
   "source": [
    "import numpy as np\n",
    "import matplotlib.pyplot as plt\n",
    "%matplotlib inline\n",
    "import os\n",
    "import pandas as pd\n",
    "\n",
    "from sklearn.model_selection import StratifiedKFold, cross_val_score, train_test_split, KFold\n",
    "from sklearn.linear_model import LogisticRegression\n",
    "\n",
    "import random\n",
    "\n",
    "from sklearn import metrics\n",
    "from collections import Counter\n",
    "import argparse\n",
    "from sklearn.metrics import roc_auc_score, average_precision_score, f1_score, precision_score, recall_score\n",
    "from sklearn.feature_extraction.text import TfidfVectorizer\n",
    "import seaborn as sns\n",
    "from sklearn.preprocessing import LabelEncoder, LabelBinarizer\n",
    "\n",
    "import collections\n",
    "import tqdm\n",
    "\n",
    "from scipy.stats import mannwhitneyu, wilcoxon"
   ]
  },
  {
   "cell_type": "code",
   "execution_count": 2,
   "metadata": {},
   "outputs": [],
   "source": [
    "def other(x):\n",
    "    if ((x=='exchanges')|(x=='finance')|(x=='games')|(x=='gambling')|(x=='high-risk')): \n",
    "        return x \n",
    "    else: \n",
    "        return 'other'"
   ]
  },
  {
   "cell_type": "code",
   "execution_count": 3,
   "metadata": {},
   "outputs": [],
   "source": [
    "df = pd.read_csv('../SC-Dapp-scraping/data/dapps_source_code_parsed_open_source_2021-01-08.csv')\n",
    "df = df[df.SC_full!='\\n']\n",
    "df.drop('Unnamed: 0', axis=1, inplace=True)\n",
    "df.category = df.category.apply(other)\n",
    "df.comments.fillna('empty', inplace=True)"
   ]
  },
  {
   "cell_type": "code",
   "execution_count": 4,
   "metadata": {},
   "outputs": [],
   "source": [
    "RS     = 42\n",
    "SPLITS = 3"
   ]
  },
  {
   "cell_type": "code",
   "execution_count": 5,
   "metadata": {},
   "outputs": [],
   "source": [
    "X = df.drop('category', axis=1)\n",
    "y = df.category"
   ]
  },
  {
   "cell_type": "code",
   "execution_count": 6,
   "metadata": {},
   "outputs": [
    {
     "data": {
      "text/plain": [
       "exchanges    470\n",
       "finance      317\n",
       "games        272\n",
       "other        238\n",
       "gambling      71\n",
       "high-risk     60\n",
       "Name: category, dtype: int64"
      ]
     },
     "execution_count": 6,
     "metadata": {},
     "output_type": "execute_result"
    }
   ],
   "source": [
    "y.value_counts()"
   ]
  },
  {
   "cell_type": "code",
   "execution_count": 7,
   "metadata": {},
   "outputs": [
    {
     "name": "stdout",
     "output_type": "stream",
     "text": [
      "There are 1428 source codes from 473 dapps\n"
     ]
    }
   ],
   "source": [
    "print(f'There are {df.shape[0]} source codes from {df.slug.nunique()} dapps')"
   ]
  },
  {
   "cell_type": "code",
   "execution_count": 8,
   "metadata": {},
   "outputs": [],
   "source": [
    "X, X_test, y, y_test  = train_test_split(X, y, stratify=y, test_size=0.2, random_state=RS)"
   ]
  },
  {
   "cell_type": "code",
   "execution_count": 9,
   "metadata": {},
   "outputs": [
    {
     "name": "stdout",
     "output_type": "stream",
     "text": [
      "X_train shape (1142, 12)\n",
      "X_test shape (286, 12)\n"
     ]
    }
   ],
   "source": [
    "print(f'X_train shape {X.shape}')\n",
    "print(f'X_test shape {X_test.shape}')"
   ]
  },
  {
   "cell_type": "code",
   "execution_count": 10,
   "metadata": {},
   "outputs": [
    {
     "data": {
      "text/plain": [
       "exchanges    94\n",
       "finance      64\n",
       "games        54\n",
       "other        48\n",
       "gambling     14\n",
       "high-risk    12\n",
       "Name: category, dtype: int64"
      ]
     },
     "execution_count": 10,
     "metadata": {},
     "output_type": "execute_result"
    }
   ],
   "source": [
    "y_test.value_counts()"
   ]
  },
  {
   "cell_type": "code",
   "execution_count": 11,
   "metadata": {},
   "outputs": [
    {
     "data": {
      "image/png": "[encoded data removed]",
      "text/plain": [
       "<Figure size 720x504 with 1 Axes>"
      ]
     },
     "metadata": {
      "needs_background": "light"
     },
     "output_type": "display_data"
    }
   ],
   "source": [
    "plt.figure(figsize=(10, 7))\n",
    "length_SC = X.SC_full.apply(lambda x: len(x.split()))\n",
    "sns.distplot(length_SC)\n",
    "plt.xlabel(' ')\n",
    "plt.savefig('./dist_of_SC_lengths.png')"
   ]
  },
  {
   "cell_type": "code",
   "execution_count": 12,
   "metadata": {},
   "outputs": [
    {
     "data": {
      "text/plain": [
       "23689"
      ]
     },
     "execution_count": 12,
     "metadata": {},
     "output_type": "execute_result"
    }
   ],
   "source": [
    "length_SC.max()"
   ]
  },
  {
   "cell_type": "code",
   "execution_count": 13,
   "metadata": {},
   "outputs": [
    {
     "name": "stdout",
     "output_type": "stream",
     "text": [
      "119388\n"
     ]
    }
   ],
   "source": [
    "results = set()\n",
    "X['SC_full'].str.lower().str.split().apply(results.update)\n",
    "print(len(results))"
   ]
  },
  {
   "cell_type": "code",
   "execution_count": 14,
   "metadata": {},
   "outputs": [
    {
     "name": "stdout",
     "output_type": "stream",
     "text": [
      "124121\n"
     ]
    }
   ],
   "source": [
    "results2 = set()\n",
    "X['SC_full'].str.split().apply(results2.update)\n",
    "print(len(results2))"
   ]
  },
  {
   "cell_type": "markdown",
   "metadata": {},
   "source": [
    "## Full code"
   ]
  },
  {
   "cell_type": "markdown",
   "metadata": {},
   "source": [
    "### Ridge Regression"
   ]
  },
  {
   "cell_type": "code",
   "execution_count": 15,
   "metadata": {},
   "outputs": [],
   "source": [
    "C_parameter = [1]\n",
    "FEATURES    = [10000]"
   ]
  },
  {
   "cell_type": "code",
   "execution_count": 16,
   "metadata": {},
   "outputs": [],
   "source": [
    "names = [f'aucroc_{i}' for i in ['exchanges', 'finance', 'gambling', 'games', 'high-risk']]\n",
    "names2 = [f'aucprc_{i}' for i in ['exchanges', 'finance', 'gambling', 'games', 'high-risk']]\n",
    "names.extend(names2)\n",
    "names.insert(0, \"seed\")\n",
    "names.insert(0, \"dataType\")"
   ]
  },
  {
   "cell_type": "code",
   "execution_count": 17,
   "metadata": {},
   "outputs": [],
   "source": [
    "metrics_cv = pd.DataFrame(np.zeros((SPLITS*14*3, len(names))), columns=names)\n",
    "idx = 0"
   ]
  },
  {
   "cell_type": "code",
   "execution_count": 18,
   "metadata": {},
   "outputs": [
    {
     "name": "stderr",
     "output_type": "stream",
     "text": [
      "100%|██████████████████████████████████████████| 14/14 [03:53<00:00, 16.68s/it]\n"
     ]
    }
   ],
   "source": [
    "for seed in tqdm.tqdm(range(14)):\n",
    "    kf  = StratifiedKFold(n_splits=SPLITS, random_state=seed, shuffle=True)         \n",
    "    for c, (train_index, val_index) in enumerate(kf.split(X, y)):\n",
    "\n",
    "                    word_vectorizer   = TfidfVectorizer(\n",
    "                        sublinear_tf  = True,\n",
    "                        strip_accents = 'unicode',\n",
    "                        analyzer      = 'word',\n",
    "                        token_pattern = r'\\w{1,}',\n",
    "                        ngram_range   = (1, 1),\n",
    "                        max_features  = FEATURES[0])\n",
    "\n",
    "                    X_train, X_val      = X.iloc[train_index]['SC_full'], X.iloc[val_index]['SC_full']\n",
    "                    y_train, y_val      = y.iloc[train_index], y.iloc[val_index] \n",
    "                    word_vectorizer.fit(X_train)\n",
    "                    train_word_features = word_vectorizer.transform(X_train)\n",
    "                    val_word_features   = word_vectorizer.transform(X_val)\n",
    "\n",
    "                    le = LabelBinarizer()\n",
    "                    le.fit(y_train)\n",
    "\n",
    "                    y_train = le.transform(y_train)\n",
    "                    y_val   = le.transform(y_val)\n",
    "                    \n",
    "                    metrics_cv.loc[idx, f'seed']     = seed\n",
    "                    metrics_cv.loc[idx, f'dataType'] = 'SC_full'\n",
    "\n",
    "                    assert (le.classes_ == ['exchanges', 'finance', 'gambling', 'games', 'high-risk', 'other']).all()\n",
    "                    for i, cl in enumerate(le.classes_[le.classes_!='other']):\n",
    "                        classifier    = LogisticRegression(C=C_parameter[0], solver='sag', random_state=seed)\n",
    "                        classifier.fit(train_word_features, y_train[:,i])\n",
    "                        probs         = classifier.predict_proba(val_word_features)[:,1]\n",
    "                        auc_roc_class = roc_auc_score(y_val[:,i], probs)\n",
    "                        auc_pr_class  = average_precision_score(y_val[:,i], probs) \n",
    "                        metrics_cv.loc[idx, f'aucroc_{cl}'] = round(auc_roc_class, 3)\n",
    "                        metrics_cv.loc[idx, f'aucprc_{cl}'] = round(auc_pr_class, 3) \n",
    "                    idx += 1"
   ]
  },
  {
   "cell_type": "code",
   "execution_count": 19,
   "metadata": {},
   "outputs": [
    {
     "name": "stderr",
     "output_type": "stream",
     "text": [
      "100%|██████████████████████████████████████████| 14/14 [01:55<00:00,  8.22s/it]\n"
     ]
    }
   ],
   "source": [
    "for seed in tqdm.tqdm(range(14)):\n",
    "    kf  = StratifiedKFold(n_splits=SPLITS, random_state=seed, shuffle=True)         \n",
    "    for c, (train_index, val_index) in enumerate(kf.split(X, y)):\n",
    "\n",
    "                    word_vectorizer   = TfidfVectorizer(\n",
    "                        sublinear_tf  = True,\n",
    "                        strip_accents = 'unicode',\n",
    "                        analyzer      = 'word',\n",
    "                        token_pattern = r'\\w{1,}',\n",
    "                        ngram_range   = (1, 1),\n",
    "                        max_features  = 7300)\n",
    "\n",
    "                    X_train, X_val      = X.iloc[train_index]['SC_no_comments'], X.iloc[val_index]['SC_no_comments']\n",
    "                    y_train, y_val      = y.iloc[train_index], y.iloc[val_index] \n",
    "                    word_vectorizer.fit(X_train)\n",
    "                    train_word_features = word_vectorizer.transform(X_train)\n",
    "                    val_word_features   = word_vectorizer.transform(X_val)\n",
    "\n",
    "                    le = LabelBinarizer()\n",
    "                    le.fit(y_train)\n",
    "\n",
    "                    y_train = le.transform(y_train)\n",
    "                    y_val   = le.transform(y_val)\n",
    "                    \n",
    "                    metrics_cv.loc[idx, f'seed']     = seed\n",
    "                    metrics_cv.loc[idx, f'dataType'] = 'SC_no_comments'\n",
    "\n",
    "                    assert (le.classes_ == ['exchanges', 'finance', 'gambling', 'games', 'high-risk', 'other']).all()\n",
    "                    for i, cl in enumerate(le.classes_[le.classes_!='other']):\n",
    "                        classifier    = LogisticRegression(C=1, solver='sag', random_state=seed)\n",
    "                        classifier.fit(train_word_features, y_train[:,i])\n",
    "                        probs         = classifier.predict_proba(val_word_features)[:,1]\n",
    "                        auc_roc_class = roc_auc_score(y_val[:,i], probs)\n",
    "                        auc_pr_class  = average_precision_score(y_val[:,i], probs)\n",
    "                        metrics_cv.loc[idx, f'aucroc_{cl}'] = round(auc_roc_class, 3)\n",
    "                        metrics_cv.loc[idx, f'aucprc_{cl}'] = round(auc_pr_class, 3)   \n",
    "                    idx += 1"
   ]
  },
  {
   "cell_type": "code",
   "execution_count": 20,
   "metadata": {},
   "outputs": [],
   "source": [
    "X = X[~X.comments.isna()]\n",
    "y = y[~X.comments.isna()]"
   ]
  },
  {
   "cell_type": "code",
   "execution_count": 21,
   "metadata": {},
   "outputs": [
    {
     "name": "stderr",
     "output_type": "stream",
     "text": [
      "100%|██████████████████████████████████████████| 14/14 [01:30<00:00,  6.43s/it]\n"
     ]
    }
   ],
   "source": [
    "for seed in tqdm.tqdm(range(14)):\n",
    "    kf  = StratifiedKFold(n_splits=SPLITS, random_state=seed, shuffle=True)         \n",
    "    for c, (train_index, val_index) in enumerate(kf.split(X, y)):\n",
    "\n",
    "            word_vectorizer   = TfidfVectorizer(\n",
    "                sublinear_tf  = True,\n",
    "                strip_accents = 'unicode',\n",
    "                analyzer      = 'word',\n",
    "                token_pattern = r'\\w{1,}',\n",
    "                ngram_range   = (1, 1),\n",
    "                max_features  = 6100)\n",
    "\n",
    "            X_train, X_val      = X.iloc[train_index]['comments'], X.iloc[val_index]['comments']\n",
    "            y_train, y_val      = y.iloc[train_index], y.iloc[val_index] \n",
    "            word_vectorizer.fit(X_train)\n",
    "            train_word_features = word_vectorizer.transform(X_train)\n",
    "            val_word_features   = word_vectorizer.transform(X_val)\n",
    "\n",
    "            le = LabelBinarizer()\n",
    "            le.fit(y_train)\n",
    "\n",
    "            y_train = le.transform(y_train)\n",
    "            y_val   = le.transform(y_val)\n",
    "\n",
    "            metrics_cv.loc[idx, f'seed']     = seed\n",
    "            metrics_cv.loc[idx, f'dataType'] = 'comments'\n",
    "\n",
    "\n",
    "            assert (le.classes_ == ['exchanges', 'finance', 'gambling', 'games', 'high-risk', 'other']).all()\n",
    "            for i, cl in enumerate(le.classes_[le.classes_!='other']):\n",
    "                classifier    = LogisticRegression(C=1, solver='sag', random_state=seed)\n",
    "                classifier.fit(train_word_features, y_train[:,i])\n",
    "                probs         = classifier.predict_proba(val_word_features)[:,1]\n",
    "                auc_roc_class = roc_auc_score(y_val[:,i], probs)\n",
    "                auc_pr_class  = average_precision_score(y_val[:,i], probs)\n",
    "                metrics_cv.loc[idx, f'aucroc_{cl}'] = round(auc_roc_class, 3)\n",
    "                metrics_cv.loc[idx, f'aucprc_{cl}'] = round(auc_pr_class, 3)   \n",
    "            idx += 1"
   ]
  },
  {
   "cell_type": "code",
   "execution_count": 23,
   "metadata": {},
   "outputs": [],
   "source": [
    "metrics_cv.to_csv('performance_ridge_regeression.csv', index=False)"
   ]
  },
  {
   "cell_type": "code",
   "execution_count": 47,
   "metadata": {},
   "outputs": [],
   "source": [
    "import re\n",
    "df = pd.read_csv('../SC-Dapp-scraping/data/dapps_source_code_parsed_open_source_2021-01-08.csv')\n",
    "df = df[df.SC_full!='\\n']\n",
    "df.drop('Unnamed: 0', axis=1, inplace=True)\n",
    "df.category = df.category.apply(other)\n",
    "df.comments.fillna('empty', inplace=True)\n",
    "\n",
    "def contract_name_extract(data):\n",
    "    #extract contract name\n",
    "    contract_name = re.findall('[\\n\\r].*Contract|contract\\s*([^\\n\\r]*)', data)\n",
    "    if len(contract_name)>1:\n",
    "        contract_name_string = ' '.join(contract_name)\n",
    "        contract_name_string = re.sub(r'[^\\w\\s]','', contract_name_string)\n",
    "    elif len(contract_name)==1:\n",
    "        contract_name_string = contract_name[0]\n",
    "    elif len(contract_name)==0:\n",
    "        contract_name_string = 'no_contracts'\n",
    "    else:\n",
    "        contract_name_string = contract_name\n",
    "    return(contract_name_string)\n",
    "\n",
    "def function_name_extract(data):\n",
    "    #extract function names and join to one string\n",
    "    function_name = re.findall('[\\n\\r].*function\\s*([^\\n\\r\\(]*)', data)\n",
    "    function_name_string = ' '.join(function_name)\n",
    "    function_name_string = re.sub(r'[^\\w\\s]','', function_name_string)\n",
    "    return(function_name_string)\n",
    "\n",
    "def interface_name_extract(data):\n",
    "    #extract function names and join to one string\n",
    "    function_name = re.findall('[\\n\\r].*Interface|interface\\s*([^\\n\\r\\(]*)', data)\n",
    "    function_name_string = ' '.join(function_name)\n",
    "    function_name_string = re.sub(r'[^\\w\\s]','', function_name_string)\n",
    "    return(function_name_string)\n",
    "\n",
    "\n",
    "def event_name_extract(data):\n",
    "    #extract function names and join to one string\n",
    "    function_name = re.findall('[\\n\\r].*event\\s*([^\\n\\r\\(]*)', data)\n",
    "    function_name_string = ' '.join(function_name)\n",
    "    function_name_string = re.sub(r'[^\\w\\s]','', function_name_string)\n",
    "    return(function_name_string)\n",
    "\n",
    "def library_name_extract(data):\n",
    "    #extract function names and join to one string\n",
    "    function_name = re.findall('[\\n\\r].*library\\s*([^\\n\\r\\(]*)', data)\n",
    "    function_name_string = ' '.join(function_name)\n",
    "    function_name_string = re.sub(r'[^\\w\\s]','', function_name_string)\n",
    "    return(function_name_string)\n",
    "\n",
    "df['contracts_names'] = df.SC_no_comments.apply(contract_name_extract)\n",
    "df['funcs_names']     = df.SC_no_comments.apply(function_name_extract)\n",
    "df['int_names']       = df.SC_no_comments.apply(interface_name_extract)\n",
    "df['eve_names']       = df.SC_no_comments.apply(event_name_extract)\n",
    "df['lib_names']       = df.SC_no_comments.apply(library_name_extract)\n",
    "df['structs']         = df['contracts_names'] + df['funcs_names'] + df['int_names'] + df['eve_names'] + df['lib_names']\n",
    "\n",
    "X = df.drop('category', axis=1)\n",
    "y = df.category\n",
    "\n",
    "X, X_test, y, y_test  = train_test_split(X, y, stratify=y, test_size=0.2, random_state=RS)"
   ]
  },
  {
   "cell_type": "code",
   "execution_count": 48,
   "metadata": {},
   "outputs": [
    {
     "name": "stderr",
     "output_type": "stream",
     "text": [
      "100%|██████████████████████████████████████████| 14/14 [00:20<00:00,  1.45s/it]\n"
     ]
    }
   ],
   "source": [
    "for seed in tqdm.tqdm(range(14)):\n",
    "    kf  = StratifiedKFold(n_splits=SPLITS, random_state=seed, shuffle=True)         \n",
    "    for c, (train_index, val_index) in enumerate(kf.split(X, y)):\n",
    "\n",
    "            word_vectorizer   = TfidfVectorizer(\n",
    "                sublinear_tf  = True,\n",
    "                strip_accents = 'unicode',\n",
    "                analyzer      = 'word',\n",
    "                token_pattern = r'\\w{1,}',\n",
    "                ngram_range   = (1, 1),\n",
    "                max_features  = 6900)\n",
    "\n",
    "            X_train, X_val      = X.iloc[train_index]['structs'], X.iloc[val_index]['structs']\n",
    "            y_train, y_val      = y.iloc[train_index], y.iloc[val_index] \n",
    "            word_vectorizer.fit(X_train)\n",
    "            train_word_features = word_vectorizer.transform(X_train)\n",
    "            val_word_features   = word_vectorizer.transform(X_val)\n",
    "\n",
    "            le = LabelBinarizer()\n",
    "            le.fit(y_train)\n",
    "\n",
    "            y_train = le.transform(y_train)\n",
    "            y_val   = le.transform(y_val)\n",
    "\n",
    "            metrics_cv.loc[idx, f'seed']     = seed\n",
    "            metrics_cv.loc[idx, f'dataType'] = 'structs'\n",
    "\n",
    "\n",
    "            assert (le.classes_ == ['exchanges', 'finance', 'gambling', 'games', 'high-risk', 'other']).all()\n",
    "            for i, cl in enumerate(le.classes_[le.classes_!='other']):\n",
    "                classifier    = LogisticRegression(C=1, solver='sag', random_state=seed)\n",
    "                classifier.fit(train_word_features, y_train[:,i])\n",
    "                probs         = classifier.predict_proba(val_word_features)[:,1]\n",
    "                auc_roc_class = roc_auc_score(y_val[:,i], probs)\n",
    "                auc_pr_class  = average_precision_score(y_val[:,i], probs)\n",
    "                metrics_cv.loc[idx, f'aucroc_{cl}'] = round(auc_roc_class, 3)\n",
    "                metrics_cv.loc[idx, f'aucprc_{cl}'] = round(auc_pr_class, 3)   \n",
    "            idx += 1"
   ]
  },
  {
   "cell_type": "code",
   "execution_count": 50,
   "metadata": {},
   "outputs": [],
   "source": [
    "metrics_cv.to_csv('performance_ridge_regeression_features.csv', index=False)"
   ]
  },
  {
   "cell_type": "markdown",
   "metadata": {},
   "source": [
    "### Hypotheses testing"
   ]
  },
  {
   "cell_type": "code",
   "execution_count": 54,
   "metadata": {},
   "outputs": [
    {
     "data": {
      "text/plain": [
       "(42,)"
      ]
     },
     "execution_count": 54,
     "metadata": {},
     "output_type": "execute_result"
    }
   ],
   "source": [
    "metrics_cv.loc[metrics_cv.dataType=='SC_full', 'auc_roc_average'].shape"
   ]
  },
  {
   "cell_type": "code",
   "execution_count": 52,
   "metadata": {},
   "outputs": [],
   "source": [
    "metrics_cv['auc_roc_average'] = metrics_cv.loc[:,['aucroc' in i for i in metrics_cv.columns]].mean(axis=1)\n",
    "metrics_cv['av_prec_average'] = metrics_cv.loc[:,['aucprc' in i for i in metrics_cv.columns]].mean(axis=1)"
   ]
  },
  {
   "cell_type": "code",
   "execution_count": 41,
   "metadata": {},
   "outputs": [
    {
     "name": "stdout",
     "output_type": "stream",
     "text": [
      "Full code == Only Code\n"
     ]
    },
    {
     "data": {
      "text/plain": [
       "WilcoxonResult(statistic=150.0, pvalue=0.00016322216486847974)"
      ]
     },
     "execution_count": 41,
     "metadata": {},
     "output_type": "execute_result"
    }
   ],
   "source": [
    "print('Full code == Only Code')\n",
    "wilcoxon(metrics_cv.loc[metrics_cv.dataType=='SC_full', 'auc_roc_average'], metrics_cv.loc[metrics_cv.dataType=='SC_no_comments', 'auc_roc_average'], alternative='two-sided')"
   ]
  },
  {
   "cell_type": "code",
   "execution_count": 43,
   "metadata": {},
   "outputs": [
    {
     "name": "stdout",
     "output_type": "stream",
     "text": [
      "Full code > Only Code\n"
     ]
    },
    {
     "data": {
      "text/plain": [
       "WilcoxonResult(statistic=753.0, pvalue=8.161108243423987e-05)"
      ]
     },
     "execution_count": 43,
     "metadata": {},
     "output_type": "execute_result"
    }
   ],
   "source": [
    "print('Full code > Only Code')\n",
    "wilcoxon(metrics_cv.loc[metrics_cv.dataType=='SC_full', 'auc_roc_average'], metrics_cv.loc[metrics_cv.dataType=='SC_no_comments', 'auc_roc_average'], alternative='greater')"
   ]
  },
  {
   "cell_type": "code",
   "execution_count": 45,
   "metadata": {},
   "outputs": [
    {
     "name": "stdout",
     "output_type": "stream",
     "text": [
      "Full code < Only Code\n"
     ]
    },
    {
     "data": {
      "text/plain": [
       "WilcoxonResult(statistic=753.0, pvalue=0.9999183889175658)"
      ]
     },
     "execution_count": 45,
     "metadata": {},
     "output_type": "execute_result"
    }
   ],
   "source": [
    "print('Full code < Only Code')\n",
    "wilcoxon(metrics_cv.loc[metrics_cv.dataType=='SC_full', 'auc_roc_average'], metrics_cv.loc[metrics_cv.dataType=='SC_no_comments', 'auc_roc_average'], alternative='less')"
   ]
  },
  {
   "cell_type": "code",
   "execution_count": 56,
   "metadata": {},
   "outputs": [
    {
     "name": "stdout",
     "output_type": "stream",
     "text": [
      "Full code == Only Comments\n"
     ]
    },
    {
     "data": {
      "text/plain": [
       "WilcoxonResult(statistic=0.0, pvalue=1.6468799027036477e-08)"
      ]
     },
     "execution_count": 56,
     "metadata": {},
     "output_type": "execute_result"
    }
   ],
   "source": [
    "print('Full code == Only Comments')\n",
    "wilcoxon(metrics_cv.loc[metrics_cv.dataType=='SC_full', 'auc_roc_average'], metrics_cv.loc[metrics_cv.dataType=='comments', 'auc_roc_average'], alternative='two-sided')"
   ]
  },
  {
   "cell_type": "code",
   "execution_count": 57,
   "metadata": {},
   "outputs": [
    {
     "name": "stdout",
     "output_type": "stream",
     "text": [
      "Full code > Only Comments\n"
     ]
    },
    {
     "data": {
      "text/plain": [
       "WilcoxonResult(statistic=903.0, pvalue=8.234399513518238e-09)"
      ]
     },
     "execution_count": 57,
     "metadata": {},
     "output_type": "execute_result"
    }
   ],
   "source": [
    "print('Full code > Only Comments')\n",
    "wilcoxon(metrics_cv.loc[metrics_cv.dataType=='SC_full', 'auc_roc_average'], metrics_cv.loc[metrics_cv.dataType=='comments', 'auc_roc_average'], alternative='greater')"
   ]
  },
  {
   "cell_type": "code",
   "execution_count": 58,
   "metadata": {},
   "outputs": [
    {
     "name": "stdout",
     "output_type": "stream",
     "text": [
      "Full code < Only Comments\n"
     ]
    },
    {
     "data": {
      "text/plain": [
       "WilcoxonResult(statistic=903.0, pvalue=0.9999999917656005)"
      ]
     },
     "execution_count": 58,
     "metadata": {},
     "output_type": "execute_result"
    }
   ],
   "source": [
    "print('Full code < Only Comments')\n",
    "wilcoxon(metrics_cv.loc[metrics_cv.dataType=='SC_full', 'auc_roc_average'], metrics_cv.loc[metrics_cv.dataType=='comments', 'auc_roc_average'], alternative='less')"
   ]
  },
  {
   "cell_type": "code",
   "execution_count": 59,
   "metadata": {},
   "outputs": [
    {
     "name": "stdout",
     "output_type": "stream",
     "text": [
      "Full code == Features\n"
     ]
    },
    {
     "data": {
      "text/plain": [
       "WilcoxonResult(statistic=28.0, pvalue=1.1868562968076353e-07)"
      ]
     },
     "execution_count": 59,
     "metadata": {},
     "output_type": "execute_result"
    }
   ],
   "source": [
    "print('Full code == Features')\n",
    "wilcoxon(metrics_cv.loc[metrics_cv.dataType=='SC_full', 'auc_roc_average'], metrics_cv.loc[metrics_cv.dataType=='structs', 'auc_roc_average'], alternative='two-sided')"
   ]
  },
  {
   "cell_type": "code",
   "execution_count": 61,
   "metadata": {},
   "outputs": [
    {
     "name": "stdout",
     "output_type": "stream",
     "text": [
      "Full code < Features\n"
     ]
    },
    {
     "data": {
      "text/plain": [
       "WilcoxonResult(statistic=875.0, pvalue=0.9999999406571851)"
      ]
     },
     "execution_count": 61,
     "metadata": {},
     "output_type": "execute_result"
    }
   ],
   "source": [
    "print('Full code < Features')\n",
    "wilcoxon(metrics_cv.loc[metrics_cv.dataType=='SC_full', 'auc_roc_average'], metrics_cv.loc[metrics_cv.dataType=='structs', 'auc_roc_average'], alternative='less')"
   ]
  },
  {
   "cell_type": "code",
   "execution_count": 62,
   "metadata": {},
   "outputs": [
    {
     "name": "stdout",
     "output_type": "stream",
     "text": [
      "Only Code == Only Comments\n"
     ]
    },
    {
     "data": {
      "text/plain": [
       "WilcoxonResult(statistic=2.0, pvalue=1.9033770246044486e-08)"
      ]
     },
     "execution_count": 62,
     "metadata": {},
     "output_type": "execute_result"
    }
   ],
   "source": [
    "print('Only Code == Only Comments')\n",
    "wilcoxon(metrics_cv.loc[metrics_cv.dataType=='SC_no_comments', 'auc_roc_average'], metrics_cv.loc[metrics_cv.dataType=='comments', 'auc_roc_average'], alternative='two-sided')"
   ]
  },
  {
   "cell_type": "code",
   "execution_count": 63,
   "metadata": {},
   "outputs": [
    {
     "name": "stdout",
     "output_type": "stream",
     "text": [
      "Only Code > Only Comments\n"
     ]
    },
    {
     "data": {
      "text/plain": [
       "WilcoxonResult(statistic=901.0, pvalue=9.516885123022243e-09)"
      ]
     },
     "execution_count": 63,
     "metadata": {},
     "output_type": "execute_result"
    }
   ],
   "source": [
    "print('Only Code > Only Comments')\n",
    "wilcoxon(metrics_cv.loc[metrics_cv.dataType=='SC_no_comments', 'auc_roc_average'], metrics_cv.loc[metrics_cv.dataType=='comments', 'auc_roc_average'], alternative='greater')"
   ]
  },
  {
   "cell_type": "code",
   "execution_count": 65,
   "metadata": {},
   "outputs": [
    {
     "name": "stdout",
     "output_type": "stream",
     "text": [
      "Only Code < Only Comments\n"
     ]
    },
    {
     "data": {
      "text/plain": [
       "WilcoxonResult(statistic=901.0, pvalue=0.9999999904831148)"
      ]
     },
     "execution_count": 65,
     "metadata": {},
     "output_type": "execute_result"
    }
   ],
   "source": [
    "print('Only Code < Only Comments')\n",
    "wilcoxon(metrics_cv.loc[metrics_cv.dataType=='SC_no_comments', 'auc_roc_average'], metrics_cv.loc[metrics_cv.dataType=='comments', 'auc_roc_average'], alternative='less')"
   ]
  },
  {
   "cell_type": "code",
   "execution_count": 66,
   "metadata": {},
   "outputs": [
    {
     "name": "stdout",
     "output_type": "stream",
     "text": [
      "Only code < Features\n"
     ]
    },
    {
     "data": {
      "text/plain": [
       "WilcoxonResult(statistic=852.5, pvalue=0.9999997336788641)"
      ]
     },
     "execution_count": 66,
     "metadata": {},
     "output_type": "execute_result"
    }
   ],
   "source": [
    "print('Only code < Features')\n",
    "wilcoxon(metrics_cv.loc[metrics_cv.dataType=='SC_no_comments', 'auc_roc_average'], metrics_cv.loc[metrics_cv.dataType=='structs', 'auc_roc_average'], alternative='less')"
   ]
  },
  {
   "cell_type": "code",
   "execution_count": 67,
   "metadata": {},
   "outputs": [
    {
     "name": "stdout",
     "output_type": "stream",
     "text": [
      "Only comments < Features\n"
     ]
    },
    {
     "data": {
      "text/plain": [
       "WilcoxonResult(statistic=72.5, pvalue=1.0737319598975438e-06)"
      ]
     },
     "execution_count": 67,
     "metadata": {},
     "output_type": "execute_result"
    }
   ],
   "source": [
    "print('Only comments < Features')\n",
    "wilcoxon(metrics_cv.loc[metrics_cv.dataType=='comments', 'auc_roc_average'], metrics_cv.loc[metrics_cv.dataType=='structs', 'auc_roc_average'], alternative='less')"
   ]
  },
  {
   "cell_type": "code",
   "execution_count": 68,
   "metadata": {},
   "outputs": [
    {
     "name": "stdout",
     "output_type": "stream",
     "text": [
      "Only comments > Features\n"
     ]
    },
    {
     "data": {
      "text/plain": [
       "WilcoxonResult(statistic=72.5, pvalue=0.9999989262680401)"
      ]
     },
     "execution_count": 68,
     "metadata": {},
     "output_type": "execute_result"
    }
   ],
   "source": [
    "print('Only comments > Features')\n",
    "wilcoxon(metrics_cv.loc[metrics_cv.dataType=='comments', 'auc_roc_average'], metrics_cv.loc[metrics_cv.dataType=='structs', 'auc_roc_average'], alternative='greater')"
   ]
  },
  {
   "cell_type": "markdown",
   "metadata": {},
   "source": [
    "#### Average Precision"
   ]
  },
  {
   "cell_type": "code",
   "execution_count": 73,
   "metadata": {},
   "outputs": [
    {
     "name": "stdout",
     "output_type": "stream",
     "text": [
      "Full code == Only Code\n"
     ]
    },
    {
     "data": {
      "text/plain": [
       "WilcoxonResult(statistic=107.5, pvalue=1.697649796662758e-05)"
      ]
     },
     "execution_count": 73,
     "metadata": {},
     "output_type": "execute_result"
    }
   ],
   "source": [
    "print('Full code == Only Code')\n",
    "wilcoxon(metrics_cv.loc[metrics_cv.dataType=='SC_full', 'av_prec_average'], metrics_cv.loc[metrics_cv.dataType=='SC_no_comments', 'av_prec_average'], alternative='two-sided')"
   ]
  },
  {
   "cell_type": "code",
   "execution_count": 74,
   "metadata": {},
   "outputs": [
    {
     "name": "stdout",
     "output_type": "stream",
     "text": [
      "Full code > Only Code\n"
     ]
    },
    {
     "data": {
      "text/plain": [
       "WilcoxonResult(statistic=795.5, pvalue=8.48824898331379e-06)"
      ]
     },
     "execution_count": 74,
     "metadata": {},
     "output_type": "execute_result"
    }
   ],
   "source": [
    "print('Full code > Only Code')\n",
    "wilcoxon(metrics_cv.loc[metrics_cv.dataType=='SC_full', 'av_prec_average'], metrics_cv.loc[metrics_cv.dataType=='SC_no_comments', 'av_prec_average'], alternative='greater')"
   ]
  },
  {
   "cell_type": "code",
   "execution_count": 75,
   "metadata": {},
   "outputs": [
    {
     "name": "stdout",
     "output_type": "stream",
     "text": [
      "Full code < Only Code\n"
     ]
    },
    {
     "data": {
      "text/plain": [
       "WilcoxonResult(statistic=795.5, pvalue=0.9999915117510166)"
      ]
     },
     "execution_count": 75,
     "metadata": {},
     "output_type": "execute_result"
    }
   ],
   "source": [
    "print('Full code < Only Code')\n",
    "wilcoxon(metrics_cv.loc[metrics_cv.dataType=='SC_full', 'av_prec_average'], metrics_cv.loc[metrics_cv.dataType=='SC_no_comments', 'av_prec_average'], alternative='less')"
   ]
  },
  {
   "cell_type": "code",
   "execution_count": 76,
   "metadata": {},
   "outputs": [
    {
     "name": "stdout",
     "output_type": "stream",
     "text": [
      "Full code == Only Comments\n"
     ]
    },
    {
     "data": {
      "text/plain": [
       "WilcoxonResult(statistic=1.0, pvalue=1.7714713126305375e-08)"
      ]
     },
     "execution_count": 76,
     "metadata": {},
     "output_type": "execute_result"
    }
   ],
   "source": [
    "print('Full code == Only Comments')\n",
    "wilcoxon(metrics_cv.loc[metrics_cv.dataType=='SC_full', 'av_prec_average'], metrics_cv.loc[metrics_cv.dataType=='comments', 'av_prec_average'], alternative='two-sided')"
   ]
  },
  {
   "cell_type": "code",
   "execution_count": 77,
   "metadata": {},
   "outputs": [
    {
     "name": "stdout",
     "output_type": "stream",
     "text": [
      "Full code > Only Comments\n"
     ]
    },
    {
     "data": {
      "text/plain": [
       "WilcoxonResult(statistic=902.0, pvalue=8.857356563152688e-09)"
      ]
     },
     "execution_count": 77,
     "metadata": {},
     "output_type": "execute_result"
    }
   ],
   "source": [
    "print('Full code > Only Comments')\n",
    "wilcoxon(metrics_cv.loc[metrics_cv.dataType=='SC_full', 'av_prec_average'], metrics_cv.loc[metrics_cv.dataType=='comments', 'av_prec_average'], alternative='greater')"
   ]
  },
  {
   "cell_type": "code",
   "execution_count": 78,
   "metadata": {},
   "outputs": [
    {
     "name": "stdout",
     "output_type": "stream",
     "text": [
      "Full code < Only Comments\n"
     ]
    },
    {
     "data": {
      "text/plain": [
       "WilcoxonResult(statistic=902.0, pvalue=0.9999999911426435)"
      ]
     },
     "execution_count": 78,
     "metadata": {},
     "output_type": "execute_result"
    }
   ],
   "source": [
    "print('Full code < Only Comments')\n",
    "wilcoxon(metrics_cv.loc[metrics_cv.dataType=='SC_full', 'av_prec_average'], metrics_cv.loc[metrics_cv.dataType=='comments', 'av_prec_average'], alternative='less')"
   ]
  },
  {
   "cell_type": "code",
   "execution_count": 79,
   "metadata": {},
   "outputs": [
    {
     "name": "stdout",
     "output_type": "stream",
     "text": [
      "Full code == Features\n"
     ]
    },
    {
     "data": {
      "text/plain": [
       "WilcoxonResult(statistic=0.0, pvalue=1.6474080993099817e-08)"
      ]
     },
     "execution_count": 79,
     "metadata": {},
     "output_type": "execute_result"
    }
   ],
   "source": [
    "print('Full code == Features')\n",
    "wilcoxon(metrics_cv.loc[metrics_cv.dataType=='SC_full', 'av_prec_average'], metrics_cv.loc[metrics_cv.dataType=='structs', 'av_prec_average'], alternative='two-sided')"
   ]
  },
  {
   "cell_type": "code",
   "execution_count": 80,
   "metadata": {},
   "outputs": [
    {
     "name": "stdout",
     "output_type": "stream",
     "text": [
      "Full code < Features\n"
     ]
    },
    {
     "data": {
      "text/plain": [
       "WilcoxonResult(statistic=903.0, pvalue=0.9999999917629595)"
      ]
     },
     "execution_count": 80,
     "metadata": {},
     "output_type": "execute_result"
    }
   ],
   "source": [
    "print('Full code < Features')\n",
    "wilcoxon(metrics_cv.loc[metrics_cv.dataType=='SC_full', 'av_prec_average'], metrics_cv.loc[metrics_cv.dataType=='structs', 'av_prec_average'], alternative='less')"
   ]
  },
  {
   "cell_type": "code",
   "execution_count": 81,
   "metadata": {},
   "outputs": [
    {
     "name": "stdout",
     "output_type": "stream",
     "text": [
      "Only Code == Only Comments\n"
     ]
    },
    {
     "data": {
      "text/plain": [
       "WilcoxonResult(statistic=4.0, pvalue=2.2012699449286654e-08)"
      ]
     },
     "execution_count": 81,
     "metadata": {},
     "output_type": "execute_result"
    }
   ],
   "source": [
    "print('Only Code == Only Comments')\n",
    "wilcoxon(metrics_cv.loc[metrics_cv.dataType=='SC_no_comments', 'av_prec_average'], metrics_cv.loc[metrics_cv.dataType=='comments', 'av_prec_average'], alternative='two-sided')"
   ]
  },
  {
   "cell_type": "code",
   "execution_count": 82,
   "metadata": {},
   "outputs": [
    {
     "name": "stdout",
     "output_type": "stream",
     "text": [
      "Only Code > Only Comments\n"
     ]
    },
    {
     "data": {
      "text/plain": [
       "WilcoxonResult(statistic=899.0, pvalue=1.1006349724643327e-08)"
      ]
     },
     "execution_count": 82,
     "metadata": {},
     "output_type": "execute_result"
    }
   ],
   "source": [
    "print('Only Code > Only Comments')\n",
    "wilcoxon(metrics_cv.loc[metrics_cv.dataType=='SC_no_comments', 'av_prec_average'], metrics_cv.loc[metrics_cv.dataType=='comments', 'av_prec_average'], alternative='greater')"
   ]
  },
  {
   "cell_type": "code",
   "execution_count": 83,
   "metadata": {},
   "outputs": [
    {
     "name": "stdout",
     "output_type": "stream",
     "text": [
      "Only Code < Only Comments\n"
     ]
    },
    {
     "data": {
      "text/plain": [
       "WilcoxonResult(statistic=899.0, pvalue=0.9999999889936503)"
      ]
     },
     "execution_count": 83,
     "metadata": {},
     "output_type": "execute_result"
    }
   ],
   "source": [
    "print('Only Code < Only Comments')\n",
    "wilcoxon(metrics_cv.loc[metrics_cv.dataType=='SC_no_comments', 'av_prec_average'], metrics_cv.loc[metrics_cv.dataType=='comments', 'av_prec_average'], alternative='less')"
   ]
  },
  {
   "cell_type": "code",
   "execution_count": 84,
   "metadata": {},
   "outputs": [
    {
     "name": "stdout",
     "output_type": "stream",
     "text": [
      "Only code < Features\n"
     ]
    },
    {
     "data": {
      "text/plain": [
       "WilcoxonResult(statistic=900.0, pvalue=0.9999999897597819)"
      ]
     },
     "execution_count": 84,
     "metadata": {},
     "output_type": "execute_result"
    }
   ],
   "source": [
    "print('Only code < Features')\n",
    "wilcoxon(metrics_cv.loc[metrics_cv.dataType=='SC_no_comments', 'av_prec_average'], metrics_cv.loc[metrics_cv.dataType=='structs', 'av_prec_average'], alternative='less')"
   ]
  },
  {
   "cell_type": "code",
   "execution_count": 85,
   "metadata": {},
   "outputs": [
    {
     "name": "stdout",
     "output_type": "stream",
     "text": [
      "Only comments < Features\n"
     ]
    },
    {
     "data": {
      "text/plain": [
       "WilcoxonResult(statistic=80.5, pvalue=1.7509196268791356e-06)"
      ]
     },
     "execution_count": 85,
     "metadata": {},
     "output_type": "execute_result"
    }
   ],
   "source": [
    "print('Only comments < Features')\n",
    "wilcoxon(metrics_cv.loc[metrics_cv.dataType=='comments', 'av_prec_average'], metrics_cv.loc[metrics_cv.dataType=='structs', 'av_prec_average'], alternative='less')"
   ]
  },
  {
   "cell_type": "code",
   "execution_count": 86,
   "metadata": {},
   "outputs": [
    {
     "name": "stdout",
     "output_type": "stream",
     "text": [
      "Only comments > Features\n"
     ]
    },
    {
     "data": {
      "text/plain": [
       "WilcoxonResult(statistic=80.5, pvalue=0.9999982490803732)"
      ]
     },
     "execution_count": 86,
     "metadata": {},
     "output_type": "execute_result"
    }
   ],
   "source": [
    "print('Only comments > Features')\n",
    "wilcoxon(metrics_cv.loc[metrics_cv.dataType=='comments', 'av_prec_average'], metrics_cv.loc[metrics_cv.dataType=='structs', 'av_prec_average'], alternative='greater')"
   ]
  }
 ],
 "metadata": {
  "kernelspec": {
   "display_name": "ethereum",
   "language": "python",
   "name": "ethereum"
  },
  "language_info": {
   "codemirror_mode": {
    "name": "ipython",
    "version": 3
   },
   "file_extension": ".py",
   "mimetype": "text/x-python",
   "name": "python",
   "nbconvert_exporter": "python",
   "pygments_lexer": "ipython3",
   "version": "3.8.3"
  }
 },
 "nbformat": 4,
 "nbformat_minor": 4
}
